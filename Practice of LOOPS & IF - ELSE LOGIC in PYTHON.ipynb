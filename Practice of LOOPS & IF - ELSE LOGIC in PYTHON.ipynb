{
 "cells": [
  {
   "cell_type": "code",
   "execution_count": 1,
   "metadata": {},
   "outputs": [],
   "source": [
    "# if else clause\n",
    "# else always below of one else. another it will through syntax error."
   ]
  },
  {
   "cell_type": "code",
   "execution_count": 2,
   "metadata": {},
   "outputs": [],
   "source": [
    "marks = 34"
   ]
  },
  {
   "cell_type": "code",
   "execution_count": 8,
   "metadata": {},
   "outputs": [
    {
     "name": "stdout",
     "output_type": "stream",
     "text": [
      "34\n",
      "failed the exam\n"
     ]
    }
   ],
   "source": [
    "if marks <35:\n",
    "    output = 'failed the exam'\n",
    "else:\n",
    "    if marks>= 35 and marks <= 50:\n",
    "        output = 'average student'\n",
    "    else:\n",
    "        if marks >50 :\n",
    "           output = 'excellent student'\n",
    "print(marks)\n",
    "print(output)"
   ]
  },
  {
   "cell_type": "code",
   "execution_count": 9,
   "metadata": {},
   "outputs": [],
   "source": [
    "# if we need to iterate for big number it will very difficult to keep typing if else , else if, else if\n",
    "# so we can  if elif logic"
   ]
  },
  {
   "cell_type": "code",
   "execution_count": 13,
   "metadata": {},
   "outputs": [
    {
     "name": "stdout",
     "output_type": "stream",
     "text": [
      "34\n",
      "failed the exam\n"
     ]
    }
   ],
   "source": [
    "if marks <35:\n",
    "    output = 'failed the exam'\n",
    "elif marks >=35 and marks <=50:\n",
    "    output = 'average student'\n",
    "else:\n",
    "    output = 'excellent student'\n",
    "print(marks)\n",
    "print(output)"
   ]
  },
  {
   "cell_type": "code",
   "execution_count": 19,
   "metadata": {},
   "outputs": [
    {
     "name": "stdout",
     "output_type": "stream",
     "text": [
      "enter your marks80\n",
      "excellent student\n"
     ]
    }
   ],
   "source": [
    "marks = int(input('enter your marks'))\n",
    "if marks <35:\n",
    "    output = 'failed the exam'\n",
    "elif marks >=35 and marks <=50:\n",
    "    output = 'average student'\n",
    "else:\n",
    "    output = 'excellent student'\n",
    "\n",
    "print(output)"
   ]
  },
  {
   "cell_type": "code",
   "execution_count": 20,
   "metadata": {},
   "outputs": [],
   "source": [
    "# FOR LOOP\n",
    "# RANGE FUNCTION - it helps to generate range which will use in loop too.\n",
    "# indentation use for showing statement"
   ]
  },
  {
   "cell_type": "code",
   "execution_count": 21,
   "metadata": {},
   "outputs": [
    {
     "data": {
      "text/plain": [
       "[0, 1, 2, 3, 4, 5, 6, 7, 8]"
      ]
     },
     "execution_count": 21,
     "metadata": {},
     "output_type": "execute_result"
    }
   ],
   "source": [
    "list(range(9))   # it will give number starts from 0 and go till 8. last wont include"
   ]
  },
  {
   "cell_type": "code",
   "execution_count": 22,
   "metadata": {},
   "outputs": [
    {
     "data": {
      "text/plain": [
       "[0, 2, 4, 6, 8, 10, 12, 14, 16, 18]"
      ]
     },
     "execution_count": 22,
     "metadata": {},
     "output_type": "execute_result"
    }
   ],
   "source": [
    " list(range(0, 20,2)) # so i have given start point, end point, jump point"
   ]
  },
  {
   "cell_type": "code",
   "execution_count": 25,
   "metadata": {},
   "outputs": [
    {
     "name": "stdout",
     "output_type": "stream",
     "text": [
      "0\n",
      "1\n",
      "2\n",
      "3\n",
      "4\n",
      "5\n"
     ]
    }
   ],
   "source": [
    "for i in range(0,6):\n",
    "    print(i)             # i is value which given under range. it will iterate from start and till last point will print"
   ]
  },
  {
   "cell_type": "code",
   "execution_count": 29,
   "metadata": {},
   "outputs": [
    {
     "name": "stdout",
     "output_type": "stream",
     "text": [
      "hello\n",
      "12\n",
      "hello\n",
      "13\n",
      "hello\n",
      "14\n",
      "hello\n",
      "15\n",
      "hello\n",
      "16\n",
      "hello\n",
      "17\n",
      "hello\n",
      "18\n",
      "hello\n",
      "19\n",
      "Thank you!\n"
     ]
    }
   ],
   "source": [
    "for i in range(12,20):\n",
    "    print('hello')\n",
    "    print(i)\n",
    "\n",
    "print('Thank you!')"
   ]
  },
  {
   "cell_type": "code",
   "execution_count": 30,
   "metadata": {},
   "outputs": [],
   "source": [
    "# lets find profit ratio through for loop "
   ]
  },
  {
   "cell_type": "code",
   "execution_count": 31,
   "metadata": {},
   "outputs": [],
   "source": [
    "sales = [2345, 4343, 3334, 4444]\n",
    "profit = [345, 343, 555, 454]"
   ]
  },
  {
   "cell_type": "code",
   "execution_count": 32,
   "metadata": {},
   "outputs": [],
   "source": [
    "# profit \\ sales is profit ratio.\n",
    "# so firstly i will create am empty list name as profitratio\n",
    "# now will use appened function  to append profitratio value for that i will create logic."
   ]
  },
  {
   "cell_type": "code",
   "execution_count": 33,
   "metadata": {},
   "outputs": [],
   "source": [
    "profitratio = []"
   ]
  },
  {
   "cell_type": "code",
   "execution_count": 35,
   "metadata": {},
   "outputs": [
    {
     "name": "stdout",
     "output_type": "stream",
     "text": [
      "[0.14712153518123666, 0.0789776652083813, 0.16646670665866828, 0.10216021602160216]\n"
     ]
    }
   ],
   "source": [
    "for i in range(0,len(sales)):  # if wont use append it will overright existing value\n",
    "    profitratio.append(profit[i]/sales[i])  # i will start with one element and divide with same element till last element\n",
    "print(profitratio)    "
   ]
  },
  {
   "cell_type": "code",
   "execution_count": 36,
   "metadata": {},
   "outputs": [],
   "source": [
    "# WHILE LOOP"
   ]
  },
  {
   "cell_type": "code",
   "execution_count": 37,
   "metadata": {},
   "outputs": [
    {
     "name": "stdout",
     "output_type": "stream",
     "text": [
      "0\n",
      "2\n",
      "4\n",
      "6\n",
      "8\n",
      "10\n",
      "12\n",
      "14\n",
      "16\n",
      "18\n",
      "20\n",
      "22\n",
      "24\n",
      "26\n",
      "28\n",
      "30\n",
      "32\n",
      "34\n",
      "36\n",
      "38\n",
      "40\n",
      "42\n",
      "44\n",
      "46\n",
      "48\n",
      "Thanks for watching\n"
     ]
    }
   ],
   "source": [
    "counter = 0\n",
    "while counter<50:\n",
    "    print(counter)\n",
    "    counter = counter +2\n",
    "print('Thanks for watching')    "
   ]
  },
  {
   "cell_type": "code",
   "execution_count": 39,
   "metadata": {},
   "outputs": [],
   "source": [
    "# difference b/w FOR lOOP and WHILE LOOP\n",
    "\n",
    "# in for loop it will iterate through given number, but \n",
    "# in while loop it will iterate till the condition met."
   ]
  },
  {
   "cell_type": "code",
   "execution_count": 42,
   "metadata": {},
   "outputs": [
    {
     "name": "stdout",
     "output_type": "stream",
     "text": [
      "hey guys total coupns left are:10\n",
      "hey guys total coupns left are:9\n",
      "hey guys total coupns left are:8\n",
      "hey guys total coupns left are:7\n",
      "hey guys total coupns left are:6\n",
      "hey guys total coupns left are:5\n",
      "hey guys total coupns left are:4\n",
      "hey guys total coupns left are:3\n",
      "hey guys total coupns left are:2\n",
      "hey guys total coupns left are:1\n",
      "hey guys total coupns left are:0\n"
     ]
    }
   ],
   "source": [
    "total_coupons = 10\n",
    "coupons_utilized= 0\n",
    "while coupons_utilized<11:\n",
    "    print('hey guys total coupns left are:' + str(total_coupons-coupons_utilized))\n",
    "    # as i can not concatenate str with int so i am converting int into str.\n",
    "    coupons_utilized= coupons_utilized+1"
   ]
  },
  {
   "cell_type": "code",
   "execution_count": 46,
   "metadata": {},
   "outputs": [
    {
     "name": "stdout",
     "output_type": "stream",
     "text": [
      "Welcome to Northen Frock Bank ATM\n",
      "Please Enter You 4 Digit Pin: 1256\n",
      "Incorrect Password\n",
      "Please Enter You 4 Digit Pin: 1234\n",
      "You entered you pin Correctly\n",
      "\n",
      "Please Press 1 For Your Balance\n",
      "\n",
      "Please Press 2 To Make a Withdrawl\n",
      "\n",
      "Please Press 3 To Pay in\n",
      "\n",
      "Please Press 4 To Return Card\n",
      "\n",
      "What Would you like to choose?3\n",
      "How Much Would You Like To Pay In? 100\n",
      "\n",
      "Your Balance is now Â£ 167.14\n",
      "Would You you like to go back? y\n",
      "Please Press 1 For Your Balance\n",
      "\n",
      "Please Press 2 To Make a Withdrawl\n",
      "\n",
      "Please Press 3 To Pay in\n",
      "\n",
      "Please Press 4 To Return Card\n",
      "\n",
      "What Would you like to choose?2\n",
      "How Much Would you like to withdraw? \n",
      "Â£10/Â£20/Â£40/Â£60/Â£80/Â£100 for other enter 1: 50\n",
      "Invalid Amount, Please Re-try\n",
      "\n",
      "Please Press 1 For Your Balance\n",
      "\n",
      "Please Press 2 To Make a Withdrawl\n",
      "\n",
      "Please Press 3 To Pay in\n",
      "\n",
      "Please Press 4 To Return Card\n",
      "\n",
      "What Would you like to choose?4\n",
      "Please wait whilst your card is Returned...\n",
      "\n",
      "Thank you for you service\n",
      "Please Enter You 4 Digit Pin: 1234\n",
      "You entered you pin Correctly\n",
      "\n",
      "Please Press 1 For Your Balance\n",
      "\n",
      "Please Press 2 To Make a Withdrawl\n",
      "\n",
      "Please Press 3 To Pay in\n",
      "\n",
      "Please Press 4 To Return Card\n",
      "\n",
      "What Would you like to choose?1456\n",
      "Please Enter a correct number. \n",
      "\n",
      "Please Press 1 For Your Balance\n",
      "\n",
      "Please Press 2 To Make a Withdrawl\n",
      "\n",
      "Please Press 3 To Pay in\n",
      "\n",
      "Please Press 4 To Return Card\n",
      "\n",
      "What Would you like to choose?1854\n",
      "Please Enter a correct number. \n",
      "\n",
      "Please Press 1 For Your Balance\n",
      "\n",
      "Please Press 2 To Make a Withdrawl\n",
      "\n",
      "Please Press 3 To Pay in\n",
      "\n",
      "Please Press 4 To Return Card\n",
      "\n",
      "What Would you like to choose?4\n",
      "Please wait whilst your card is Returned...\n",
      "\n",
      "Thank you for you service\n",
      "Please Enter You 4 Digit Pin: 1542\n",
      "Incorrect Password\n",
      "Please Enter You 4 Digit Pin: 1758\n",
      "Incorrect Password\n",
      "\n",
      "No more tries\n"
     ]
    }
   ],
   "source": [
    "print('Welcome to Northen Frock Bank ATM')\n",
    "restart=('Y')\n",
    "chances = 3\n",
    "balance = 67.14\n",
    "while chances >= 0:\n",
    "    pin = int(input('Please Enter You 4 Digit Pin: '))\n",
    "    if pin == (1234):\n",
    "        print('You entered you pin Correctly\\n')\n",
    "        while restart not in ('n','NO','no','N'):\n",
    "            print('Please Press 1 For Your Balance\\n')\n",
    "            print('Please Press 2 To Make a Withdrawl\\n')\n",
    "            print('Please Press 3 To Pay in\\n')\n",
    "            print('Please Press 4 To Return Card\\n')\n",
    "            option = int(input('What Would you like to choose?'))\n",
    "            if option == 1:\n",
    "                print('Your Balance is Â£',balance,'\\n')\n",
    "                restart = input('Would You you like to go back? ')\n",
    "                if restart in ('n','NO','no','N'):\n",
    "                    print('Thank You')\n",
    "                    break\n",
    "            elif option == 2:\n",
    "                option2 = ('y')\n",
    "                withdrawl = float(input('How Much Would you like to withdraw? \\nÂ£10/Â£20/Â£40/Â£60/Â£80/Â£100 for other enter 1: '))\n",
    "                if withdrawl in [10, 20, 40, 60, 80, 100]:\n",
    "                    balance = balance - withdrawl\n",
    "                    print ('\\nYour Balance is now Â£',balance)\n",
    "                    restart = input('Would You you like to go back? ')\n",
    "                    if restart in ('n','NO','no','N'):\n",
    "                        print('Thank You')\n",
    "                        break\n",
    "                elif withdrawl != [10, 20, 40, 60, 80, 100]:\n",
    "                    print('Invalid Amount, Please Re-try\\n')\n",
    "                    restart = ('y')\n",
    "                elif withdrawl == 1:\n",
    "                    withdrawl = float(input('Please Enter Desired amount:'))    \n",
    "\n",
    "            elif option == 3:\n",
    "                Pay_in = float(input('How Much Would You Like To Pay In? '))\n",
    "                balance = balance + Pay_in\n",
    "                print ('\\nYour Balance is now Â£',balance)\n",
    "                restart = input('Would You you like to go back? ')\n",
    "                if restart in ('n','NO','no','N'):\n",
    "                    print('Thank You')\n",
    "                    break\n",
    "            elif option == 4:\n",
    "                print('Please wait whilst your card is Returned...\\n')\n",
    "                print('Thank you for you service')\n",
    "                break\n",
    "            else:\n",
    "                print('Please Enter a correct number. \\n')\n",
    "                restart = ('y')\n",
    "    elif pin != ('1234'):\n",
    "        print('Incorrect Password')\n",
    "        chances = chances - 1\n",
    "        if chances == 0:\n",
    "            print('\\nNo more tries')\n",
    "            break\n"
   ]
  },
  {
   "cell_type": "code",
   "execution_count": null,
   "metadata": {},
   "outputs": [],
   "source": []
  }
 ],
 "metadata": {
  "kernelspec": {
   "display_name": "Python 3",
   "language": "python",
   "name": "python3"
  },
  "language_info": {
   "codemirror_mode": {
    "name": "ipython",
    "version": 3
   },
   "file_extension": ".py",
   "mimetype": "text/x-python",
   "name": "python",
   "nbconvert_exporter": "python",
   "pygments_lexer": "ipython3",
   "version": "3.7.3"
  }
 },
 "nbformat": 4,
 "nbformat_minor": 2
}
